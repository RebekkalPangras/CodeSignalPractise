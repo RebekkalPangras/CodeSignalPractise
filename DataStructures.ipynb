{
  "nbformat": 4,
  "nbformat_minor": 0,
  "metadata": {
    "colab": {
      "name": "Copy of DataStructures",
      "provenance": [],
      "authorship_tag": "ABX9TyO+/F3pL30NAvoTlPddbkfz",
      "include_colab_link": true
    },
    "kernelspec": {
      "name": "python3",
      "display_name": "Python 3"
    },
    "language_info": {
      "name": "python"
    }
  },
  "cells": [
    {
      "cell_type": "markdown",
      "metadata": {
        "id": "view-in-github",
        "colab_type": "text"
      },
      "source": [
        "<a href=\"https://colab.research.google.com/github/RebekkalPangras/CodeSignalPractise/blob/main/DataStructures.ipynb\" target=\"_parent\"><img src=\"https://colab.research.google.com/assets/colab-badge.svg\" alt=\"Open In Colab\"/></a>"
      ]
    },
    {
      "cell_type": "markdown",
      "metadata": {
        "id": "OdzwsiRAw4lx"
      },
      "source": [
        "# Arrays"
      ]
    },
    {
      "cell_type": "markdown",
      "metadata": {
        "id": "Hi0W8C_Bwzpf"
      },
      "source": [
        "1. Given an array a that contains only numbers in the range from 1 to a.length, find the first duplicate number for which the second occurrence has the minimal index. In other words, if there are more than 1 duplicated numbers, return the number for which the second occurrence has a smaller index than the second occurrence of the other number does. If there are no such elements, return -1.\n",
        "\n",
        "Example\n",
        "\n",
        "For a = [2, 1, 3, 5, 3, 2], the output should be firstDuplicate(a) = 3.\n",
        "\n",
        "There are 2 duplicates: numbers 2 and 3. The second occurrence of 3 has a smaller index than the second occurrence of 2 does, so the answer is 3.\n",
        "\n",
        "For a = [2, 2], the output should be firstDuplicate(a) = 2;\n",
        "\n",
        "For a = [2, 4, 3, 5, 1], the output should be firstDuplicate(a) = -1.\n",
        "\n",
        "Input/Output\n",
        "\n",
        "[execution time limit] 4 seconds (py3)\n",
        "\n",
        "[input] array.integer a\n",
        "\n",
        "Guaranteed constraints:\n",
        "1 ≤ a.length ≤ 105,\n",
        "1 ≤ a[i] ≤ a.length.\n",
        "\n",
        "[output] integer\n",
        "\n",
        "The element in a that occurs in the array more than once and has the minimal index for its second occurrence. If there are no such elements, return -1."
      ]
    },
    {
      "cell_type": "code",
      "metadata": {
        "colab": {
          "base_uri": "https://localhost:8080/"
        },
        "id": "zvz3W6VWxE-h",
        "outputId": "74b31fa1-c3e0-4727-d9fa-fd53eb2cd140"
      },
      "source": [
        "from collections import Counter\n",
        "def firstDuplicate(a):\n",
        "    \n",
        "    d = Counter(a)\n",
        "    dups = list([elem for elem in d if d[elem]>1])\n",
        "    \n",
        "    if len(dups) == 0:\n",
        "        return -1\n",
        "        \n",
        "    index = len(a)\n",
        "    element = 0\n",
        "    for elem in dups:\n",
        "        new_index = a.index(elem, a.index(elem)+1, len(a))\n",
        "        if new_index < index:\n",
        "            index = new_index\n",
        "            element = a[new_index]\n",
        "    return element\n",
        "\n",
        "firstDuplicate([2,1,3,5,3,2])"
      ],
      "execution_count": null,
      "outputs": [
        {
          "output_type": "execute_result",
          "data": {
            "text/plain": [
              "3"
            ]
          },
          "metadata": {
            "tags": []
          },
          "execution_count": 4
        }
      ]
    },
    {
      "cell_type": "markdown",
      "metadata": {
        "id": "CmDBft8-xYDl"
      },
      "source": [
        "2. Given a string s consisting of small English letters, find and return the first instance of a non-repeating character in it. If there is no such character, return '_'.\n",
        "\n",
        "Example\n",
        "\n",
        "For s = \"abacabad\", the output should be\n",
        "firstNotRepeatingCharacter(s) = 'c'.\n",
        "\n",
        "There are 2 non-repeating characters in the string: 'c' and 'd'. Return c since it appears in the string first.\n",
        "\n",
        "For s = \"abacabaabacaba\", the output should be\n",
        "firstNotRepeatingCharacter(s) = '_'.\n",
        "\n",
        "There are no characters in this string that do not repeat.\n",
        "\n",
        "Input/Output\n",
        "\n",
        "[execution time limit] 4 seconds (py3)\n",
        "\n",
        "[input] string s\n",
        "\n",
        "A string that contains only lowercase English letters.\n",
        "\n",
        "Guaranteed constraints:\n",
        "1 ≤ s.length ≤ 105.\n",
        "\n",
        "[output] char\n",
        "\n",
        "The first non-repeating character in s, or '_' if there are no characters that do not repeat."
      ]
    },
    {
      "cell_type": "code",
      "metadata": {
        "colab": {
          "base_uri": "https://localhost:8080/",
          "height": 35
        },
        "id": "edphf8hKxO4v",
        "outputId": "ec02a539-3fc4-444e-c90e-46d7227aae6d"
      },
      "source": [
        "from collections import Counter\n",
        "def firstNotRepeatingCharacter(s):\n",
        "    s_a = list(s)\n",
        "    d = Counter(s_a)\n",
        "    elem = list(elem for elem in d if d[elem] == 1)\n",
        "    if len(elem) == 0:\n",
        "        return '_'\n",
        "    return elem[0]\n",
        "\n",
        "firstNotRepeatingCharacter(\"abacabad\")"
      ],
      "execution_count": null,
      "outputs": [
        {
          "output_type": "execute_result",
          "data": {
            "application/vnd.google.colaboratory.intrinsic+json": {
              "type": "string"
            },
            "text/plain": [
              "'c'"
            ]
          },
          "metadata": {
            "tags": []
          },
          "execution_count": 5
        }
      ]
    },
    {
      "cell_type": "markdown",
      "metadata": {
        "id": "8_dnBTg7xpYQ"
      },
      "source": [
        "Note: Try to solve this task in-place (with O(1) additional memory), since this is what you'll be asked to do during an interview.\n",
        "\n",
        "3. You are given an n x n 2D matrix that represents an image. Rotate the image by 90 degrees (clockwise).\n",
        "\n",
        "Example\n",
        "\n",
        "For\n",
        "\n",
        "a = [[1, 2, 3],\n",
        "     [4, 5, 6],\n",
        "     [7, 8, 9]]\n",
        "the output should be\n",
        "\n",
        "rotateImage(a) =\n",
        "    [[7, 4, 1],\n",
        "     [8, 5, 2],\n",
        "     [9, 6, 3]]\n",
        "Input/Output\n",
        "\n",
        "[execution time limit] 4 seconds (py3)\n",
        "\n",
        "[input] array.array.integer a\n",
        "\n",
        "Guaranteed constraints:\n",
        "1 ≤ a.length ≤ 100,\n",
        "a[i].length = a.length,\n",
        "1 ≤ a[i][j] ≤ 104.\n",
        "\n",
        "[output] array.array.integer"
      ]
    },
    {
      "cell_type": "code",
      "metadata": {
        "colab": {
          "base_uri": "https://localhost:8080/"
        },
        "id": "16stGQchxnJ6",
        "outputId": "24d5404d-6254-4b28-f453-0b82a736ee5f"
      },
      "source": [
        "def rotateImage(a):\n",
        "    b = [[0 for i in range(len(a))]for j in range(len(a))]\n",
        "    for i in range(len(a)):\n",
        "        row = len(a)-1\n",
        "        for j in range(len(a)):\n",
        "            b[i][j] = a[row][i]\n",
        "            row -= 1\n",
        "    return b\n",
        "\n",
        "rotateImage([[1,2,3],[4,5,6],[7,8,9]])"
      ],
      "execution_count": null,
      "outputs": [
        {
          "output_type": "execute_result",
          "data": {
            "text/plain": [
              "[[7, 4, 1], [8, 5, 2], [9, 6, 3]]"
            ]
          },
          "metadata": {
            "tags": []
          },
          "execution_count": 6
        }
      ]
    },
    {
      "cell_type": "markdown",
      "metadata": {
        "id": "PnjetiewzE-B"
      },
      "source": [
        "4. Sudoku is a number-placement puzzle. The objective is to fill a 9 × 9 grid with numbers in such a way that each column, each row, and each of the nine 3 × 3 sub-grids that compose the grid all contain all of the numbers from 1 to 9 one time.\n",
        "\n",
        "Implement an algorithm that will check whether the given grid of numbers represents a valid Sudoku puzzle according to the layout rules described above. Note that the puzzle represented by grid does not have to be solvable.\n",
        "\n",
        "Example\n",
        "\n",
        "For\n",
        "\n",
        "grid = [['.', '.', '.', '1', '4', '.', '.', '2', '.'],\n",
        "        ['.', '.', '6', '.', '.', '.', '.', '.', '.'],\n",
        "        ['.', '.', '.', '.', '.', '.', '.', '.', '.'],\n",
        "        ['.', '.', '1', '.', '.', '.', '.', '.', '.'],\n",
        "        ['.', '6', '7', '.', '.', '.', '.', '.', '9'],\n",
        "        ['.', '.', '.', '.', '.', '.', '8', '1', '.'],\n",
        "        ['.', '3', '.', '.', '.', '.', '.', '.', '6'],\n",
        "        ['.', '.', '.', '.', '.', '7', '.', '.', '.'],\n",
        "        ['.', '.', '.', '5', '.', '.', '.', '7', '.']]\n",
        "the output should be\n",
        "sudoku2(grid) = true;\n",
        "\n",
        "For\n",
        "\n",
        "grid = [['.', '.', '.', '.', '2', '.', '.', '9', '.'],\n",
        "        ['.', '.', '.', '.', '6', '.', '.', '.', '.'],\n",
        "        ['7', '1', '.', '.', '7', '5', '.', '.', '.'],\n",
        "        ['.', '7', '.', '.', '.', '.', '.', '.', '.'],\n",
        "        ['.', '.', '.', '.', '8', '3', '.', '.', '.'],\n",
        "        ['.', '.', '8', '.', '.', '7', '.', '6', '.'],\n",
        "        ['.', '.', '.', '.', '.', '2', '.', '.', '.'],\n",
        "        ['.', '1', '.', '2', '.', '.', '.', '.', '.'],\n",
        "        ['.', '2', '.', '.', '3', '.', '.', '.', '.']]\n",
        "the output should be\n",
        "sudoku2(grid) = false.\n",
        "\n",
        "The given grid is not correct because there are two 1s in the second column. Each column, each row, and each 3 × 3 subgrid can only contain the numbers 1 through 9 one time.\n",
        "\n",
        "Input/Output\n",
        "\n",
        "[execution time limit] 4 seconds (py3)\n",
        "\n",
        "[input] array.array.char grid\n",
        "\n",
        "A 9 × 9 array of characters, in which each character is either a digit from '1' to '9' or a period '.'.\n",
        "\n",
        "[output] boolean\n",
        "\n",
        "Return true if grid represents a valid Sudoku puzzle, otherwise return false.\n",
        "\n"
      ]
    },
    {
      "cell_type": "code",
      "metadata": {
        "id": "ClpV27MUSKZB"
      },
      "source": [
        "from collections import Counter\n",
        "def isSudoku(grid):\n",
        "    for rows in grid:\n",
        "        d = Counter(rows)\n",
        "        dups = [elem for elem in d if d[elem]>1 and elem!='.']\n",
        "        if len(dups)>0:\n",
        "            return False\n",
        "    for col in range(len(grid[0])):\n",
        "        temp = [grid[row][col] for row in range(0,len(grid))]\n",
        "        d = Counter(temp)\n",
        "        dups = [elem for elem in d if d[elem]>1 and elem!='.']\n",
        "        if len(dups)>0:\n",
        "            return False\n",
        "    return True\n",
        "    \n",
        "def sudoku2(grid):\n",
        "    result = isSudoku(grid)\n",
        "    if result == False:\n",
        "        return result\n",
        "    \n",
        "    row = 0\n",
        "    for col in range(0,3):\n",
        "        col = col*3\n",
        "        grid_1 = []\n",
        "        grid_1.extend(grid[row][col:col+3])\n",
        "        grid_1.extend(grid[row+1][col:col+3])\n",
        "        grid_1.extend(grid[row+2][col:col+3])\n",
        "        grid_1 = [i for i in grid_1 if i != '.']\n",
        "        if len(grid_1) > len(set(grid_1)):\n",
        "            return False\n",
        "        \n",
        "        grid_2 = []\n",
        "        grid_2.extend(grid[row+3][col:col+3])\n",
        "        grid_2.extend(grid[row+4][col:col+3])\n",
        "        grid_2.extend(grid[row+5][col:col+3])\n",
        "        grid_2 = [i for i in grid_2 if i != '.']\n",
        "        if len(grid_2) > len(set(grid_2)):\n",
        "            return False\n",
        "        \n",
        "        grid_3 = []\n",
        "        grid_3.extend(grid[row+6][col:col+3])\n",
        "        grid_3.extend(grid[row+7][col:col+3])\n",
        "        grid_3.extend(grid[row+8][col:col+3])\n",
        "        grid_3 = [i for i in grid_3 if i != '.']\n",
        "        if len(grid_3) > len(set(grid_3)):\n",
        "            return False\n",
        "        \n",
        "    return True"
      ],
      "execution_count": null,
      "outputs": []
    },
    {
      "cell_type": "code",
      "metadata": {
        "id": "f-9t9hx8ZS8P",
        "colab": {
          "base_uri": "https://localhost:8080/"
        },
        "outputId": "7d2f080b-1de8-40e3-a64d-ffd85c8662d9"
      },
      "source": [
        "print(sudoku2([[\".\",\".\",\".\",\"1\",\"4\",\".\",\".\",\"2\",\".\"], \n",
        " [\".\",\".\",\"6\",\".\",\".\",\".\",\".\",\".\",\".\"], \n",
        " [\".\",\".\",\".\",\".\",\".\",\".\",\".\",\".\",\".\"], \n",
        " [\".\",\".\",\"1\",\".\",\".\",\".\",\".\",\".\",\".\"], \n",
        " [\".\",\"6\",\"7\",\".\",\".\",\".\",\".\",\".\",\"9\"], \n",
        " [\".\",\".\",\".\",\".\",\".\",\".\",\"8\",\"1\",\".\"], \n",
        " [\".\",\"3\",\".\",\".\",\".\",\".\",\".\",\".\",\"6\"], \n",
        " [\".\",\".\",\".\",\".\",\".\",\"7\",\".\",\".\",\".\"], \n",
        " [\".\",\".\",\".\",\"5\",\".\",\".\",\".\",\"7\",\".\"]]))"
      ],
      "execution_count": null,
      "outputs": [
        {
          "output_type": "stream",
          "text": [
            "True\n"
          ],
          "name": "stdout"
        }
      ]
    },
    {
      "cell_type": "markdown",
      "metadata": {
        "id": "R8-n7sp2Ue2V"
      },
      "source": [
        "3. A cryptarithm is a mathematical puzzle for which the goal is to find the correspondence between letters and digits, such that the given arithmetic equation consisting of letters holds true when the letters are converted to digits.\n",
        "\n",
        "You have an array of strings crypt, the cryptarithm, and an an array containing the mapping of letters and digits, solution. The array crypt will contain three non-empty strings that follow the structure: [word1, word2, word3], which should be interpreted as the word1 + word2 = word3 cryptarithm.\n",
        "\n",
        "If crypt, when it is decoded by replacing all of the letters in the cryptarithm with digits using the mapping in solution, becomes a valid arithmetic equation containing no numbers with leading zeroes, the answer is true. If it does not become a valid arithmetic solution, the answer is false.\n",
        "\n",
        "Note that number 0 doesn't contain leading zeroes (while for example 00 or 0123 do).\n",
        "\n",
        "Example\n",
        "\n",
        "For crypt = [\"SEND\", \"MORE\", \"MONEY\"] and\n",
        "\n",
        "solution = [['O', '0'],\n",
        "            ['M', '1'],\n",
        "            ['Y', '2'],\n",
        "            ['E', '5'],\n",
        "            ['N', '6'],\n",
        "            ['D', '7'],\n",
        "            ['R', '8'],\n",
        "            ['S', '9']]\n",
        "the output should be\n",
        "isCryptSolution(crypt, solution) = true.\n",
        "\n",
        "When you decrypt \"SEND\", \"MORE\", and \"MONEY\" using the mapping given in crypt, you get 9567 + 1085 = 10652 which is correct and a valid arithmetic equation.\n",
        "\n",
        "For crypt = [\"TEN\", \"TWO\", \"ONE\"] and\n",
        "\n",
        "solution = [['O', '1'],\n",
        "            ['T', '0'],\n",
        "            ['W', '9'],\n",
        "            ['E', '5'],\n",
        "            ['N', '4']]\n",
        "the output should be\n",
        "isCryptSolution(crypt, solution) = false.\n",
        "\n",
        "Even though 054 + 091 = 145, 054 and 091 both contain leading zeroes, meaning that this is not a valid solution.\n",
        "\n",
        "Input/Output\n",
        "\n",
        "[execution time limit] 4 seconds (py3)\n",
        "\n",
        "[input] array.string crypt\n",
        "\n",
        "An array of three non-empty strings containing only uppercase English letters.\n",
        "\n",
        "Guaranteed constraints:\n",
        "crypt.length = 3,\n",
        "1 ≤ crypt[i].length ≤ 14.\n",
        "\n",
        "[input] array.array.char solution\n",
        "\n",
        "An array consisting of pairs of characters that represent the correspondence between letters and numbers in the cryptarithm. The first character in the pair is an uppercase English letter, and the second one is a digit in the range from 0 to 9.\n",
        "\n",
        "It is guaranteed that solution only contains entries for the letters present in crypt and that different letters have different values.\n",
        "\n",
        "Guaranteed constraints:\n",
        "solution[i].length = 2,\n",
        "'A' ≤ solution[i][0] ≤ 'Z',\n",
        "'0' ≤ solution[i][1] ≤ '9',\n",
        "solution[i][0] ≠ solution[j][0], i ≠ j,\n",
        "solution[i][1] ≠ solution[j][1], i ≠ j.\n",
        "\n",
        "[output] boolean\n",
        "\n",
        "Return true if the solution represents the correct solution to the cryptarithm crypt, otherwise return false."
      ]
    },
    {
      "cell_type": "code",
      "metadata": {
        "id": "yzewNBn6ZcrA"
      },
      "source": [
        "def maptonum(word, solution):\n",
        "  num = \"\"\n",
        "  for letter in word:\n",
        "    for mapping in solution:\n",
        "      if mapping[0] == letter:\n",
        "        num += mapping[1]\n",
        "  return num\n",
        "\n",
        "def isCryptSolution(crypt, solution):\n",
        "    a = crypt[0]\n",
        "    b = crypt[1]\n",
        "    c = crypt[2]\n",
        "    \n",
        "    a_num = maptonum(a, solution)\n",
        "    if a_num == '00':\n",
        "        return False\n",
        "    b_num = maptonum(b, solution)\n",
        "    if b_num == '00':\n",
        "        return False\n",
        "    c_num = maptonum(c, solution)\n",
        "    \n",
        "    if a_num[0]=='0' and b_num[0]=='0' and len(a_num) > 1 and len(b_num) > 1:\n",
        "        return False\n",
        "    if int(c_num) == int(a_num)+int(b_num):\n",
        "        if len(c_num)==len(str(int(a_num)+int(b_num))):\n",
        "            return True\n",
        "    return False"
      ],
      "execution_count": null,
      "outputs": []
    },
    {
      "cell_type": "code",
      "metadata": {
        "id": "no4OOsOdUi5h",
        "colab": {
          "base_uri": "https://localhost:8080/"
        },
        "outputId": "521bce3a-0a7f-4c33-c0ec-cc431e82e6a2"
      },
      "source": [
        "isCryptSolution([\"SEND\", \n",
        " \"MORE\", \n",
        " \"MONEY\"],\n",
        "[[\"O\",\"0\"], \n",
        " [\"M\",\"1\"], \n",
        " [\"Y\",\"2\"], \n",
        " [\"E\",\"5\"], \n",
        " [\"N\",\"6\"], \n",
        " [\"D\",\"7\"], \n",
        " [\"R\",\"8\"], \n",
        " [\"S\",\"9\"]])"
      ],
      "execution_count": null,
      "outputs": [
        {
          "output_type": "execute_result",
          "data": {
            "text/plain": [
              "True"
            ]
          },
          "metadata": {
            "tags": []
          },
          "execution_count": 10
        }
      ]
    },
    {
      "cell_type": "markdown",
      "metadata": {
        "id": "rRiFcgVd3IkB"
      },
      "source": [
        "# LinkedList"
      ]
    },
    {
      "cell_type": "markdown",
      "metadata": {
        "id": "m-y0VoFy3MLB"
      },
      "source": [
        "1. Note: Try to solve this task in O(n) time using O(1) additional space, where n is the number of elements in the list, since this is what you'll be asked to do during an interview.\n",
        "\n",
        "Given a singly linked list of integers l and an integer k, remove all elements from list l that have a value equal to k.\n",
        "\n",
        "Example\n",
        "\n",
        "For l = [3, 1, 2, 3, 4, 5] and k = 3, the output should be\n",
        "removeKFromList(l, k) = [1, 2, 4, 5];\n",
        "For l = [1, 2, 3, 4, 5, 6, 7] and k = 10, the output should be\n",
        "removeKFromList(l, k) = [1, 2, 3, 4, 5, 6, 7].\n",
        "Input/Output\n",
        "\n",
        "[execution time limit] 4 seconds (py3)\n",
        "\n",
        "[input] linkedlist.integer l\n",
        "\n",
        "A singly linked list of integers.\n",
        "\n",
        "Guaranteed constraints:\n",
        "0 ≤ list size ≤ 105,\n",
        "-1000 ≤ element value ≤ 1000.\n",
        "\n",
        "[input] integer k\n",
        "\n",
        "An integer.\n",
        "\n",
        "Guaranteed constraints:\n",
        "-1000 ≤ k ≤ 1000.\n",
        "\n",
        "[output] linkedlist.integer\n",
        "\n",
        "Return l with all the values equal to k removed."
      ]
    },
    {
      "cell_type": "code",
      "metadata": {
        "id": "HAQbXn3mUqyj"
      },
      "source": [
        "def removeKFromList(l, k):\n",
        "    c = l\n",
        "    while c:\n",
        "        if c.next and c.next.value == k:\n",
        "            c.next = c.next.next\n",
        "        else:\n",
        "            c = c.next\n",
        "    return l.next if l and l.value == k else l"
      ],
      "execution_count": null,
      "outputs": []
    },
    {
      "cell_type": "markdown",
      "metadata": {
        "id": "Daar-t7f_ur6"
      },
      "source": [
        "2. Note: Try to solve this task in O(n) time using O(1) additional space, where n is the number of elements in l, since this is what you'll be asked to do during an interview.\n",
        "\n",
        "Given a singly linked list of integers, determine whether or not it's a palindrome.\n",
        "\n",
        "Note: in examples below and tests preview linked lists are presented as arrays just for simplicity of visualization: in real data you will be given a head node l of the linked list\n",
        "\n",
        "Example\n",
        "\n",
        "For l = [0, 1, 0], the output should be\n",
        "isListPalindrome(l) = true;\n",
        "\n",
        "For l = [1, 2, 2, 3], the output should be\n",
        "isListPalindrome(l) = false.\n",
        "\n",
        "Input/Output\n",
        "\n",
        "[execution time limit] 4 seconds (py3)\n",
        "\n",
        "[input] linkedlist.integer l\n",
        "\n",
        "A singly linked list of integers.\n",
        "\n",
        "Guaranteed constraints:\n",
        "0 ≤ list size ≤ 5 · 105,\n",
        "-109 ≤ element value ≤ 109.\n",
        "\n",
        "[output] boolean\n",
        "\n",
        "Return true if l is a palindrome, otherwise return false."
      ]
    },
    {
      "cell_type": "code",
      "metadata": {
        "id": "mrQp1lM3_v95"
      },
      "source": [
        "# Singly-linked lists are already defined with this interface:\n",
        "# class ListNode(object):\n",
        "#   def __init__(self, x):\n",
        "#     self.value = x\n",
        "#     self.next = None\n",
        "#\n",
        "def isListPalindrome(l):\n",
        "    if not l or not l.next:\n",
        "        return True\n",
        "    s = 1\n",
        "    n = l\n",
        "    while n.next:\n",
        "        n = n.next\n",
        "        s += 1\n",
        "    \n",
        "    middle = s // 2\n",
        "    \n",
        "    n = l\n",
        "    for i in range(middle):\n",
        "        n = n.next\n",
        "    \n",
        "    if s % 2:\n",
        "        n = n.next\n",
        "    \n",
        "    r = n # reverse n\n",
        "    m = r.next\n",
        "    for _ in range(middle-1): # flip n\n",
        "        m.next,r,m = r,m,m.next\n",
        "    \n",
        "    for _ in range(middle):\n",
        "        if r.value != l.value:\n",
        "            return False\n",
        "        r = r.next\n",
        "        l = l.next\n",
        "    \n",
        "    return True"
      ],
      "execution_count": null,
      "outputs": []
    }
  ]
}