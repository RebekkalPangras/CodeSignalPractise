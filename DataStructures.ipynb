{
  "nbformat": 4,
  "nbformat_minor": 0,
  "metadata": {
    "colab": {
      "name": "DataStructures",
      "provenance": [],
      "authorship_tag": "ABX9TyPvoA+BPPqv86vPDrYdJk5A",
      "include_colab_link": true
    },
    "kernelspec": {
      "name": "python3",
      "display_name": "Python 3"
    },
    "language_info": {
      "name": "python"
    }
  },
  "cells": [
    {
      "cell_type": "markdown",
      "metadata": {
        "id": "view-in-github",
        "colab_type": "text"
      },
      "source": [
        "<a href=\"https://colab.research.google.com/github/RebekkalPangras/CodeSignalPractise/blob/main/DataStructures.ipynb\" target=\"_parent\"><img src=\"https://colab.research.google.com/assets/colab-badge.svg\" alt=\"Open In Colab\"/></a>"
      ]
    },
    {
      "cell_type": "markdown",
      "metadata": {
        "id": "OdzwsiRAw4lx"
      },
      "source": [
        "# Arrays"
      ]
    },
    {
      "cell_type": "markdown",
      "metadata": {
        "id": "Hi0W8C_Bwzpf"
      },
      "source": [
        "1. Given an array a that contains only numbers in the range from 1 to a.length, find the first duplicate number for which the second occurrence has the minimal index. In other words, if there are more than 1 duplicated numbers, return the number for which the second occurrence has a smaller index than the second occurrence of the other number does. If there are no such elements, return -1.\n",
        "\n",
        "Example\n",
        "\n",
        "For a = [2, 1, 3, 5, 3, 2], the output should be firstDuplicate(a) = 3.\n",
        "\n",
        "There are 2 duplicates: numbers 2 and 3. The second occurrence of 3 has a smaller index than the second occurrence of 2 does, so the answer is 3.\n",
        "\n",
        "For a = [2, 2], the output should be firstDuplicate(a) = 2;\n",
        "\n",
        "For a = [2, 4, 3, 5, 1], the output should be firstDuplicate(a) = -1.\n",
        "\n",
        "Input/Output\n",
        "\n",
        "[execution time limit] 4 seconds (py3)\n",
        "\n",
        "[input] array.integer a\n",
        "\n",
        "Guaranteed constraints:\n",
        "1 ≤ a.length ≤ 105,\n",
        "1 ≤ a[i] ≤ a.length.\n",
        "\n",
        "[output] integer\n",
        "\n",
        "The element in a that occurs in the array more than once and has the minimal index for its second occurrence. If there are no such elements, return -1."
      ]
    },
    {
      "cell_type": "code",
      "metadata": {
        "colab": {
          "base_uri": "https://localhost:8080/"
        },
        "id": "zvz3W6VWxE-h",
        "outputId": "3f954ee5-17b0-4b8a-82a3-cab6252b3683"
      },
      "source": [
        "from collections import Counter\n",
        "def firstDuplicate(a):\n",
        "    \n",
        "    d = Counter(a)\n",
        "    dups = list([elem for elem in d if d[elem]>1])\n",
        "    \n",
        "    if len(dups) == 0:\n",
        "        return -1\n",
        "        \n",
        "    index = len(a)\n",
        "    element = 0\n",
        "    for elem in dups:\n",
        "        new_index = a.index(elem, a.index(elem)+1, len(a))\n",
        "        if new_index < index:\n",
        "            index = new_index\n",
        "            element = a[new_index]\n",
        "    return element\n",
        "\n",
        "firstDuplicate([2,1,3,5,3,2])"
      ],
      "execution_count": 1,
      "outputs": [
        {
          "output_type": "execute_result",
          "data": {
            "text/plain": [
              "3"
            ]
          },
          "metadata": {
            "tags": []
          },
          "execution_count": 1
        }
      ]
    },
    {
      "cell_type": "markdown",
      "metadata": {
        "id": "CmDBft8-xYDl"
      },
      "source": [
        "2. Given a string s consisting of small English letters, find and return the first instance of a non-repeating character in it. If there is no such character, return '_'.\n",
        "\n",
        "Example\n",
        "\n",
        "For s = \"abacabad\", the output should be\n",
        "firstNotRepeatingCharacter(s) = 'c'.\n",
        "\n",
        "There are 2 non-repeating characters in the string: 'c' and 'd'. Return c since it appears in the string first.\n",
        "\n",
        "For s = \"abacabaabacaba\", the output should be\n",
        "firstNotRepeatingCharacter(s) = '_'.\n",
        "\n",
        "There are no characters in this string that do not repeat.\n",
        "\n",
        "Input/Output\n",
        "\n",
        "[execution time limit] 4 seconds (py3)\n",
        "\n",
        "[input] string s\n",
        "\n",
        "A string that contains only lowercase English letters.\n",
        "\n",
        "Guaranteed constraints:\n",
        "1 ≤ s.length ≤ 105.\n",
        "\n",
        "[output] char\n",
        "\n",
        "The first non-repeating character in s, or '_' if there are no characters that do not repeat."
      ]
    },
    {
      "cell_type": "code",
      "metadata": {
        "colab": {
          "base_uri": "https://localhost:8080/",
          "height": 35
        },
        "id": "edphf8hKxO4v",
        "outputId": "8b2dd0ad-a8d5-492d-d35c-b91008c142cd"
      },
      "source": [
        "from collections import Counter\n",
        "def firstNotRepeatingCharacter(s):\n",
        "    s_a = list(s)\n",
        "    d = Counter(s_a)\n",
        "    elem = list(elem for elem in d if d[elem] == 1)\n",
        "    if len(elem) == 0:\n",
        "        return '_'\n",
        "    return elem[0]\n",
        "\n",
        "firstNotRepeatingCharacter(\"abacabad\")"
      ],
      "execution_count": 2,
      "outputs": [
        {
          "output_type": "execute_result",
          "data": {
            "application/vnd.google.colaboratory.intrinsic+json": {
              "type": "string"
            },
            "text/plain": [
              "'c'"
            ]
          },
          "metadata": {
            "tags": []
          },
          "execution_count": 2
        }
      ]
    },
    {
      "cell_type": "markdown",
      "metadata": {
        "id": "8_dnBTg7xpYQ"
      },
      "source": [
        "Note: Try to solve this task in-place (with O(1) additional memory), since this is what you'll be asked to do during an interview.\n",
        "\n",
        "3. You are given an n x n 2D matrix that represents an image. Rotate the image by 90 degrees (clockwise).\n",
        "\n",
        "Example\n",
        "\n",
        "For\n",
        "\n",
        "a = [[1, 2, 3],\n",
        "     [4, 5, 6],\n",
        "     [7, 8, 9]]\n",
        "the output should be\n",
        "\n",
        "rotateImage(a) =\n",
        "    [[7, 4, 1],\n",
        "     [8, 5, 2],\n",
        "     [9, 6, 3]]\n",
        "Input/Output\n",
        "\n",
        "[execution time limit] 4 seconds (py3)\n",
        "\n",
        "[input] array.array.integer a\n",
        "\n",
        "Guaranteed constraints:\n",
        "1 ≤ a.length ≤ 100,\n",
        "a[i].length = a.length,\n",
        "1 ≤ a[i][j] ≤ 104.\n",
        "\n",
        "[output] array.array.integer"
      ]
    },
    {
      "cell_type": "code",
      "metadata": {
        "colab": {
          "base_uri": "https://localhost:8080/"
        },
        "id": "16stGQchxnJ6",
        "outputId": "d40fa0e5-9ac7-4450-9657-59aa04ca5e1d"
      },
      "source": [
        "def rotateImage(a):\n",
        "    b = [[0 for i in range(len(a))]for j in range(len(a))]\n",
        "    for i in range(len(a)):\n",
        "        row = len(a)-1\n",
        "        for j in range(len(a)):\n",
        "            b[i][j] = a[row][i]\n",
        "            row -= 1\n",
        "    return b\n",
        "\n",
        "rotateImage([[1,2,3],[4,5,6],[7,8,9]])"
      ],
      "execution_count": 3,
      "outputs": [
        {
          "output_type": "execute_result",
          "data": {
            "text/plain": [
              "[[7, 4, 1], [8, 5, 2], [9, 6, 3]]"
            ]
          },
          "metadata": {
            "tags": []
          },
          "execution_count": 3
        }
      ]
    }
  ]
}